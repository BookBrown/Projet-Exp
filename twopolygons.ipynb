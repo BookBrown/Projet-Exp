{
 "cells": [
  {
   "cell_type": "code",
   "execution_count": 57,
   "metadata": {},
   "outputs": [
    {
     "data": {
      "image/png": "[encoded data removed]",
      "text/plain": [
       "<Figure size 432x288 with 1 Axes>"
      ]
     },
     "metadata": {
      "needs_background": "light"
     },
     "output_type": "display_data"
    }
   ],
   "source": [
    "import numpy as np\n",
    "import matplotlib.pyplot as plt\n",
    "\n",
    "\n",
    "def PolynomeReg(N,R): #construit un polynôme régulier à N sommets et retourne la liste de ses N sommets concaténé au premier sommet\n",
    "    Theta=2*np.pi/N*np.arange(0,N+1)\n",
    "    return(np.array([[R*np.cos(theta),R*np.sin(theta)] for theta in Theta]))\n",
    "\n",
    "def InverseSommets(polygon): #part du principe qu'on a un nombre impair de sommets donc polygon est de taille paire\n",
    "    inversedpolygon=-polygon\n",
    "    return inversedpolygon\n",
    "\n",
    "\n",
    "def TwoPolygons(N,R,dx,dy):\n",
    "    polygon1=PolynomeReg(N,R)+np.array([[1/2*dx, dy/2] for i in range(N+1)])\n",
    "    polygon2=InverseSommets(PolynomeReg(N,R))-np.array([[1/2*dx, dy/2] for i in range(N+1)])\n",
    "    return [polygon1,polygon2]\n",
    "    polygon=PolynomeReg(5,1)\n",
    "\n",
    "[P1,P2]=TwoPolygons(5,1,2,0.5)\n",
    "plt.scatter(P1[:,0],P1[:,1])\n",
    "plt.scatter(P2[:,0],P2[:,1])\n",
    "plt.xlim([-3,3])\n",
    "plt.ylim([-3,3])\n",
    "plt.show()"
   ]
  }
 ],
 "metadata": {
  "kernelspec": {
   "display_name": "Python 3.9.7 ('base')",
   "language": "python",
   "name": "python3"
  },
  "language_info": {
   "codemirror_mode": {
    "name": "ipython",
    "version": 3
   },
   "file_extension": ".py",
   "mimetype": "text/x-python",
   "name": "python",
   "nbconvert_exporter": "python",
   "pygments_lexer": "ipython3",
   "version": "3.9.7"
  },
  "orig_nbformat": 4,
  "vscode": {
   "interpreter": {
    "hash": "59b30478ed814154e933474be0c49d6e4955e7b3b227b9fad4d650e1b1b1dd38"
   }
  }
 },
 "nbformat": 4,
 "nbformat_minor": 2
}
